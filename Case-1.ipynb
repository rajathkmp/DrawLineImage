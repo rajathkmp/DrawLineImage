{
 "cells": [
  {
   "cell_type": "code",
   "execution_count": 17,
   "metadata": {
    "collapsed": false
   },
   "outputs": [
    {
     "name": "stdout",
     "output_type": "stream",
     "text": [
      "Populating the interactive namespace from numpy and matplotlib\n"
     ]
    }
   ],
   "source": [
    "%pylab inline"
   ]
  },
  {
   "cell_type": "code",
   "execution_count": 18,
   "metadata": {
    "collapsed": true
   },
   "outputs": [],
   "source": [
    "import matplotlib.pyplot as plt\n",
    "import numpy as np"
   ]
  },
  {
   "cell_type": "code",
   "execution_count": 90,
   "metadata": {
    "collapsed": false
   },
   "outputs": [],
   "source": [
    "def checkImg(c1,c2):\n",
    "    if c1[1] > c2[1]:\n",
    "        if c1[0] < c2[0] and c1[1] > c2[1]:\n",
    "            return 1\n",
    "        else:\n",
    "            return 0\n",
    "    else:\n",
    "        if c1[0] > c2[0] and c1[1] < c2[1]:\n",
    "            return 1\n",
    "        else:\n",
    "            return 0\n",
    "\n",
    "def initialize(a,c1,c2):\n",
    "    img = np.zeros(a).astype(int)\n",
    "    img[c1[0],c1[1]] = 1\n",
    "    img[c2[0],c2[1]] = 1\n",
    "    return img\n",
    "\n",
    "def checkCentroid(c1,c2):\n",
    "    a = c1 - c2\n",
    "    if a[0] < 0 :\n",
    "        return c1\n",
    "    else:\n",
    "        return c2\n",
    "\n",
    "def greaterList(x):\n",
    "    u =[]\n",
    "    u.append(0)\n",
    "    for i in range(1,x):\n",
    "        u.append(i)\n",
    "        u.append(i+1)\n",
    "    u.append(x)\n",
    "    return u\n",
    "\n",
    "def smallerList(y,k):\n",
    "    v = []\n",
    "    for i in range(y+1):\n",
    "        for j in range(int(k/(y+1))):\n",
    "            v.append(i)\n",
    "    return v"
   ]
  },
  {
   "cell_type": "code",
   "execution_count": 104,
   "metadata": {
    "collapsed": true
   },
   "outputs": [],
   "source": [
    "a = [8,8]\n",
    "c1 = np.array([2,0])\n",
    "c2 = np.array([4,6])"
   ]
  },
  {
   "cell_type": "code",
   "execution_count": 105,
   "metadata": {
    "collapsed": false
   },
   "outputs": [
    {
     "name": "stdout",
     "output_type": "stream",
     "text": [
      "[[0 0 0 0 0 0 0 0]\n",
      " [0 0 0 0 0 0 0 0]\n",
      " [1 0 0 0 0 0 0 0]\n",
      " [0 0 0 0 0 0 0 0]\n",
      " [0 0 0 0 0 0 1 0]\n",
      " [0 0 0 0 0 0 0 0]\n",
      " [0 0 0 0 0 0 0 0]\n",
      " [0 0 0 0 0 0 0 0]]\n"
     ]
    }
   ],
   "source": [
    "a = initialize(a,c1,c2)\n",
    "print(a)"
   ]
  },
  {
   "cell_type": "code",
   "execution_count": 106,
   "metadata": {
    "collapsed": false
   },
   "outputs": [
    {
     "data": {
      "image/png": "[encoded data removed]",
      "text/plain": [
       "<matplotlib.figure.Figure at 0x10893ea90>"
      ]
     },
     "metadata": {},
     "output_type": "display_data"
    }
   ],
   "source": [
    "plt.imshow(a)\n",
    "plt.colorbar()\n",
    "plt.show()"
   ]
  },
  {
   "cell_type": "code",
   "execution_count": 107,
   "metadata": {
    "collapsed": false
   },
   "outputs": [],
   "source": [
    "b = checkImg(c1,c2)"
   ]
  },
  {
   "cell_type": "code",
   "execution_count": 108,
   "metadata": {
    "collapsed": true
   },
   "outputs": [],
   "source": [
    "if b ==1:\n",
    "    c3 = np.array([c1[0],c2[1]])\n",
    "    c4 = np.array([c2[0],c1[1]])\n",
    "else:\n",
    "    c3 = c1\n",
    "    c4 = c2"
   ]
  },
  {
   "cell_type": "code",
   "execution_count": 109,
   "metadata": {
    "collapsed": true
   },
   "outputs": [],
   "source": [
    "c = checkCentroid(c3,c4)"
   ]
  },
  {
   "cell_type": "code",
   "execution_count": 110,
   "metadata": {
    "collapsed": true
   },
   "outputs": [],
   "source": [
    "corSub = abs(c4 - c3)"
   ]
  },
  {
   "cell_type": "code",
   "execution_count": 111,
   "metadata": {
    "collapsed": false
   },
   "outputs": [],
   "source": [
    "if corSub[0] > corSub[1]:\n",
    "    u = greaterList(corSub[0])\n",
    "    v = smallerList(corSub[1],len(u))\n",
    "elif corSub[0] < corSub[1]:\n",
    "    v = greaterList(corSub[1])\n",
    "    u = smallerList(corSub[0],len(v))\n",
    "else:\n",
    "    u = smallerList(corSub[0],corSub[0]*2 +1)\n",
    "    v = smallerList(corSub[1],corSub[0]*2 +1)"
   ]
  },
  {
   "cell_type": "code",
   "execution_count": 112,
   "metadata": {
    "collapsed": false
   },
   "outputs": [],
   "source": [
    "if b == 1:\n",
    "    v = list(v)\n",
    "    v.reverse()\n",
    "    v = np.array(v)"
   ]
  },
  {
   "cell_type": "code",
   "execution_count": 113,
   "metadata": {
    "collapsed": true
   },
   "outputs": [],
   "source": [
    "result = zip(u + c[0],v + c[1])"
   ]
  },
  {
   "cell_type": "code",
   "execution_count": 114,
   "metadata": {
    "collapsed": false
   },
   "outputs": [],
   "source": [
    "for i in result:\n",
    "    a[i[0],i[1]] = 1"
   ]
  },
  {
   "cell_type": "code",
   "execution_count": 115,
   "metadata": {
    "collapsed": false
   },
   "outputs": [
    {
     "name": "stdout",
     "output_type": "stream",
     "text": [
      "[[0 0 0 0 0 0 0 0]\n",
      " [0 0 0 0 0 0 0 0]\n",
      " [1 1 1 0 0 0 0 0]\n",
      " [0 0 1 1 1 0 0 0]\n",
      " [0 0 0 0 1 1 1 0]\n",
      " [0 0 0 0 0 0 0 0]\n",
      " [0 0 0 0 0 0 0 0]\n",
      " [0 0 0 0 0 0 0 0]]\n"
     ]
    }
   ],
   "source": [
    "print(a)"
   ]
  },
  {
   "cell_type": "code",
   "execution_count": 116,
   "metadata": {
    "collapsed": false
   },
   "outputs": [
    {
     "data": {
      "image/png": "[encoded data removed]",
      "text/plain": [
       "<matplotlib.figure.Figure at 0x1089c3cc0>"
      ]
     },
     "metadata": {},
     "output_type": "display_data"
    }
   ],
   "source": [
    "plt.imshow(a)\n",
    "plt.colorbar()\n",
    "plt.show()"
   ]
  }
 ],
 "metadata": {
  "kernelspec": {
   "display_name": "Python 3",
   "language": "python",
   "name": "python3"
  },
  "language_info": {
   "codemirror_mode": {
    "name": "ipython",
    "version": 3
   },
   "file_extension": ".py",
   "mimetype": "text/x-python",
   "name": "python",
   "nbconvert_exporter": "python",
   "pygments_lexer": "ipython3",
   "version": "3.5.1"
  }
 },
 "nbformat": 4,
 "nbformat_minor": 0
}
